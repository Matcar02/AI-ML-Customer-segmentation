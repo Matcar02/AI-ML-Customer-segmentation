{
 "cells": [
  {
   "cell_type": "markdown",
   "metadata": {},
   "source": [
    "Starting Point: EDA and some data cleansing."
   ]
  },
  {
   "cell_type": "code",
   "execution_count": 31,
   "metadata": {},
   "outputs": [
    {
     "data": {
      "text/html": [
       "<div>\n",
       "<style scoped>\n",
       "    .dataframe tbody tr th:only-of-type {\n",
       "        vertical-align: middle;\n",
       "    }\n",
       "\n",
       "    .dataframe tbody tr th {\n",
       "        vertical-align: top;\n",
       "    }\n",
       "\n",
       "    .dataframe thead th {\n",
       "        text-align: right;\n",
       "    }\n",
       "</style>\n",
       "<table border=\"1\" class=\"dataframe\">\n",
       "  <thead>\n",
       "    <tr style=\"text-align: right;\">\n",
       "      <th></th>\n",
       "      <th>order_id</th>\n",
       "      <th>customer_id</th>\n",
       "      <th>order_status</th>\n",
       "      <th>order_purchase_timestamp</th>\n",
       "      <th>order_approved_at</th>\n",
       "      <th>order_delivered_carrier_date</th>\n",
       "      <th>order_delivered_customer_date</th>\n",
       "      <th>order_estimated_delivery_date</th>\n",
       "      <th>payment_type</th>\n",
       "      <th>payment_installments</th>\n",
       "      <th>...</th>\n",
       "      <th>seller_id</th>\n",
       "      <th>shipping_limit_date</th>\n",
       "      <th>price</th>\n",
       "      <th>freight_value</th>\n",
       "      <th>seller_city</th>\n",
       "      <th>seller_state</th>\n",
       "      <th>product_category_name</th>\n",
       "      <th>product_name_lenght</th>\n",
       "      <th>product_description_lenght</th>\n",
       "      <th>product_category_name_english</th>\n",
       "    </tr>\n",
       "  </thead>\n",
       "  <tbody>\n",
       "    <tr>\n",
       "      <th>0</th>\n",
       "      <td>53cdb2fc8bc7dce0b6741e2150273451</td>\n",
       "      <td>b0830fb4747a6c6d20dea0b8c802d7ef</td>\n",
       "      <td>delivered</td>\n",
       "      <td>2018-07-24 20:41:37</td>\n",
       "      <td>2018-07-26 03:24:27</td>\n",
       "      <td>2018-07-26 14:31:00</td>\n",
       "      <td>2018-08-07 15:27:45</td>\n",
       "      <td>2018-08-13 00:00:00</td>\n",
       "      <td>boleto</td>\n",
       "      <td>1</td>\n",
       "      <td>...</td>\n",
       "      <td>289cdb325fb7e7f891c38608bf9e0962</td>\n",
       "      <td>2018-07-30 03:24:27</td>\n",
       "      <td>118.7</td>\n",
       "      <td>22.76</td>\n",
       "      <td>belo horizonte</td>\n",
       "      <td>SP</td>\n",
       "      <td>perfumaria</td>\n",
       "      <td>29</td>\n",
       "      <td>178</td>\n",
       "      <td>perfumery</td>\n",
       "    </tr>\n",
       "    <tr>\n",
       "      <th>1</th>\n",
       "      <td>86674ccaee19790309333210917b2c7d</td>\n",
       "      <td>1b338293f35549b5e480b9a3d7bbf3cd</td>\n",
       "      <td>delivered</td>\n",
       "      <td>2018-08-09 11:37:35</td>\n",
       "      <td>2018-08-09 14:35:19</td>\n",
       "      <td>2018-08-10 14:34:00</td>\n",
       "      <td>2018-08-14 18:51:47</td>\n",
       "      <td>2018-08-22 00:00:00</td>\n",
       "      <td>credit_card</td>\n",
       "      <td>5</td>\n",
       "      <td>...</td>\n",
       "      <td>289cdb325fb7e7f891c38608bf9e0962</td>\n",
       "      <td>2018-08-13 14:31:29</td>\n",
       "      <td>116.9</td>\n",
       "      <td>18.92</td>\n",
       "      <td>belo horizonte</td>\n",
       "      <td>SP</td>\n",
       "      <td>perfumaria</td>\n",
       "      <td>29</td>\n",
       "      <td>178</td>\n",
       "      <td>perfumery</td>\n",
       "    </tr>\n",
       "    <tr>\n",
       "      <th>2</th>\n",
       "      <td>aee682982e18eb4714ce9f97b15af5e2</td>\n",
       "      <td>8858442ea4d5dc5bb9e118e8f728095d</td>\n",
       "      <td>delivered</td>\n",
       "      <td>2018-07-09 18:46:28</td>\n",
       "      <td>2018-07-11 03:45:45</td>\n",
       "      <td>2018-07-11 15:01:00</td>\n",
       "      <td>2018-07-12 18:14:35</td>\n",
       "      <td>2018-07-18 00:00:00</td>\n",
       "      <td>boleto</td>\n",
       "      <td>1</td>\n",
       "      <td>...</td>\n",
       "      <td>289cdb325fb7e7f891c38608bf9e0962</td>\n",
       "      <td>2018-07-13 03:45:45</td>\n",
       "      <td>118.7</td>\n",
       "      <td>9.34</td>\n",
       "      <td>belo horizonte</td>\n",
       "      <td>SP</td>\n",
       "      <td>perfumaria</td>\n",
       "      <td>29</td>\n",
       "      <td>178</td>\n",
       "      <td>perfumery</td>\n",
       "    </tr>\n",
       "    <tr>\n",
       "      <th>3</th>\n",
       "      <td>d543201a9b42a1402ff97e65b439a48b</td>\n",
       "      <td>971bf8f42a9f8cb3ead257854905b454</td>\n",
       "      <td>delivered</td>\n",
       "      <td>2018-08-21 10:00:25</td>\n",
       "      <td>2018-08-21 10:50:54</td>\n",
       "      <td>2018-08-22 15:21:00</td>\n",
       "      <td>2018-08-28 18:58:22</td>\n",
       "      <td>2018-09-10 00:00:00</td>\n",
       "      <td>credit_card</td>\n",
       "      <td>2</td>\n",
       "      <td>...</td>\n",
       "      <td>289cdb325fb7e7f891c38608bf9e0962</td>\n",
       "      <td>2018-08-23 10:50:54</td>\n",
       "      <td>116.9</td>\n",
       "      <td>22.75</td>\n",
       "      <td>belo horizonte</td>\n",
       "      <td>SP</td>\n",
       "      <td>perfumaria</td>\n",
       "      <td>29</td>\n",
       "      <td>178</td>\n",
       "      <td>perfumery</td>\n",
       "    </tr>\n",
       "    <tr>\n",
       "      <th>4</th>\n",
       "      <td>d543201a9b42a1402ff97e65b439a48b</td>\n",
       "      <td>971bf8f42a9f8cb3ead257854905b454</td>\n",
       "      <td>delivered</td>\n",
       "      <td>2018-08-21 10:00:25</td>\n",
       "      <td>2018-08-21 10:50:54</td>\n",
       "      <td>2018-08-22 15:21:00</td>\n",
       "      <td>2018-08-28 18:58:22</td>\n",
       "      <td>2018-09-10 00:00:00</td>\n",
       "      <td>credit_card</td>\n",
       "      <td>2</td>\n",
       "      <td>...</td>\n",
       "      <td>289cdb325fb7e7f891c38608bf9e0962</td>\n",
       "      <td>2018-08-23 10:50:54</td>\n",
       "      <td>116.9</td>\n",
       "      <td>22.75</td>\n",
       "      <td>belo horizonte</td>\n",
       "      <td>SP</td>\n",
       "      <td>perfumaria</td>\n",
       "      <td>29</td>\n",
       "      <td>178</td>\n",
       "      <td>perfumery</td>\n",
       "    </tr>\n",
       "  </tbody>\n",
       "</table>\n",
       "<p>5 rows × 26 columns</p>\n",
       "</div>"
      ],
      "text/plain": [
       "                           order_id                       customer_id  \\\n",
       "0  53cdb2fc8bc7dce0b6741e2150273451  b0830fb4747a6c6d20dea0b8c802d7ef   \n",
       "1  86674ccaee19790309333210917b2c7d  1b338293f35549b5e480b9a3d7bbf3cd   \n",
       "2  aee682982e18eb4714ce9f97b15af5e2  8858442ea4d5dc5bb9e118e8f728095d   \n",
       "3  d543201a9b42a1402ff97e65b439a48b  971bf8f42a9f8cb3ead257854905b454   \n",
       "4  d543201a9b42a1402ff97e65b439a48b  971bf8f42a9f8cb3ead257854905b454   \n",
       "\n",
       "  order_status order_purchase_timestamp    order_approved_at  \\\n",
       "0    delivered      2018-07-24 20:41:37  2018-07-26 03:24:27   \n",
       "1    delivered      2018-08-09 11:37:35  2018-08-09 14:35:19   \n",
       "2    delivered      2018-07-09 18:46:28  2018-07-11 03:45:45   \n",
       "3    delivered      2018-08-21 10:00:25  2018-08-21 10:50:54   \n",
       "4    delivered      2018-08-21 10:00:25  2018-08-21 10:50:54   \n",
       "\n",
       "  order_delivered_carrier_date order_delivered_customer_date  \\\n",
       "0          2018-07-26 14:31:00           2018-08-07 15:27:45   \n",
       "1          2018-08-10 14:34:00           2018-08-14 18:51:47   \n",
       "2          2018-07-11 15:01:00           2018-07-12 18:14:35   \n",
       "3          2018-08-22 15:21:00           2018-08-28 18:58:22   \n",
       "4          2018-08-22 15:21:00           2018-08-28 18:58:22   \n",
       "\n",
       "  order_estimated_delivery_date payment_type  payment_installments  ...  \\\n",
       "0           2018-08-13 00:00:00       boleto                     1  ...   \n",
       "1           2018-08-22 00:00:00  credit_card                     5  ...   \n",
       "2           2018-07-18 00:00:00       boleto                     1  ...   \n",
       "3           2018-09-10 00:00:00  credit_card                     2  ...   \n",
       "4           2018-09-10 00:00:00  credit_card                     2  ...   \n",
       "\n",
       "                          seller_id  shipping_limit_date  price freight_value  \\\n",
       "0  289cdb325fb7e7f891c38608bf9e0962  2018-07-30 03:24:27  118.7         22.76   \n",
       "1  289cdb325fb7e7f891c38608bf9e0962  2018-08-13 14:31:29  116.9         18.92   \n",
       "2  289cdb325fb7e7f891c38608bf9e0962  2018-07-13 03:45:45  118.7          9.34   \n",
       "3  289cdb325fb7e7f891c38608bf9e0962  2018-08-23 10:50:54  116.9         22.75   \n",
       "4  289cdb325fb7e7f891c38608bf9e0962  2018-08-23 10:50:54  116.9         22.75   \n",
       "\n",
       "      seller_city seller_state product_category_name product_name_lenght  \\\n",
       "0  belo horizonte           SP            perfumaria                  29   \n",
       "1  belo horizonte           SP            perfumaria                  29   \n",
       "2  belo horizonte           SP            perfumaria                  29   \n",
       "3  belo horizonte           SP            perfumaria                  29   \n",
       "4  belo horizonte           SP            perfumaria                  29   \n",
       "\n",
       "   product_description_lenght  product_category_name_english  \n",
       "0                         178                      perfumery  \n",
       "1                         178                      perfumery  \n",
       "2                         178                      perfumery  \n",
       "3                         178                      perfumery  \n",
       "4                         178                      perfumery  \n",
       "\n",
       "[5 rows x 26 columns]"
      ]
     },
     "execution_count": 31,
     "metadata": {},
     "output_type": "execute_result"
    }
   ],
   "source": [
    "import pandas as pd\n",
    "import numpy as np\n",
    "import seaborn as sns\n",
    "import matplotlib.pyplot as plt\n",
    "import datetime as dt\n",
    "\n",
    "df = pd.read_csv('customer_segmentation.csv')\n",
    "#df.info()\n",
    "df.head() \n",
    "#df.describe()                     #no nulls hence no need to impute/delete some rows except for duplicate\n",
    "#col = list(df.columns)\n",
    "#print(col)\n",
    "\n",
    "\n"
   ]
  },
  {
   "cell_type": "markdown",
   "metadata": {},
   "source": [
    "Now we want to see which columns contains categorical values, so that we will be able to use OneHotEncoder on those columns"
   ]
  },
  {
   "cell_type": "code",
   "execution_count": 32,
   "metadata": {},
   "outputs": [
    {
     "data": {
      "text/plain": [
       "Index(['order_id', 'customer_id', 'order_status', 'order_purchase_timestamp',\n",
       "       'order_approved_at', 'order_delivered_carrier_date',\n",
       "       'order_delivered_customer_date', 'order_estimated_delivery_date',\n",
       "       'payment_type', 'customer_unique_id', 'customer_city', 'customer_state',\n",
       "       'product_id', 'seller_id', 'shipping_limit_date', 'seller_city',\n",
       "       'seller_state', 'product_category_name',\n",
       "       'product_category_name_english'],\n",
       "      dtype='object')"
      ]
     },
     "execution_count": 32,
     "metadata": {},
     "output_type": "execute_result"
    }
   ],
   "source": [
    "#Checking the features that are categorical\n",
    "\n",
    "categorical_features = df.select_dtypes(include='O').keys()\n",
    "\n",
    "#Displaying those features\n",
    "\n",
    "categorical_features"
   ]
  },
  {
   "cell_type": "markdown",
   "metadata": {},
   "source": [
    "We want to use OneHotEncoder only on the unique features, because otherwise we would get a non-sense giant dataset with thousands of columns."
   ]
  },
  {
   "cell_type": "code",
   "execution_count": 3,
   "metadata": {},
   "outputs": [
    {
     "ename": "ModuleNotFoundError",
     "evalue": "No module named 'category_encoders'",
     "output_type": "error",
     "traceback": [
      "\u001b[1;31m---------------------------------------------------------------------------\u001b[0m",
      "\u001b[1;31mModuleNotFoundError\u001b[0m                       Traceback (most recent call last)",
      "Cell \u001b[1;32mIn [3], line 3\u001b[0m\n\u001b[0;32m      1\u001b[0m \u001b[39mfrom\u001b[39;00m \u001b[39msklearn\u001b[39;00m\u001b[39m.\u001b[39;00m\u001b[39mpreprocessing\u001b[39;00m \u001b[39mimport\u001b[39;00m LabelEncoder\n\u001b[0;32m      2\u001b[0m \u001b[39mfrom\u001b[39;00m \u001b[39msklearn\u001b[39;00m\u001b[39m.\u001b[39;00m\u001b[39mpreprocessing\u001b[39;00m \u001b[39mimport\u001b[39;00m OneHotEncoder\n\u001b[1;32m----> 3\u001b[0m \u001b[39mfrom\u001b[39;00m \u001b[39mcategory_encoders\u001b[39;00m\u001b[39m.\u001b[39;00m\u001b[39mone_hot\u001b[39;00m \u001b[39mimport\u001b[39;00m OneHotEncoder\n\u001b[0;32m      6\u001b[0m \u001b[39m### Categorical data to be converted to numeric data\u001b[39;00m\n\u001b[0;32m      7\u001b[0m categorical_cols \u001b[39m=\u001b[39m [\u001b[39m'\u001b[39m\u001b[39morder_status\u001b[39m\u001b[39m'\u001b[39m,\u001b[39m'\u001b[39m\u001b[39mpayment_type\u001b[39m\u001b[39m'\u001b[39m, \u001b[39m'\u001b[39m\u001b[39mcustomer_city\u001b[39m\u001b[39m'\u001b[39m, \u001b[39m'\u001b[39m\u001b[39mcustomer_state\u001b[39m\u001b[39m'\u001b[39m, \u001b[39m'\u001b[39m\u001b[39mseller_city\u001b[39m\u001b[39m'\u001b[39m,\u001b[39m'\u001b[39m\u001b[39mseller_state\u001b[39m\u001b[39m'\u001b[39m, \u001b[39m'\u001b[39m\u001b[39mproduct_category_name\u001b[39m\u001b[39m'\u001b[39m,\u001b[39m'\u001b[39m\u001b[39mproduct_category_name_english\u001b[39m\u001b[39m'\u001b[39m]\n",
      "\u001b[1;31mModuleNotFoundError\u001b[0m: No module named 'category_encoders'"
     ]
    }
   ],
   "source": [
    "from sklearn.preprocessing import LabelEncoder\n",
    "from sklearn.preprocessing import OneHotEncoder\n",
    "from category_encoders.one_hot import OneHotEncoder\n",
    "\n",
    "\n",
    "### Categorical data to be converted to numeric data\n",
    "categorical_cols = ['order_status','payment_type', 'customer_city', 'customer_state', 'seller_city','seller_state', 'product_category_name','product_category_name_english']\n",
    "\n",
    "onehot_encoder = OneHotEncoder(sparse=False)\n",
    "onehot_encoded = onehot_encoder.fit_transform(label_encoded)\n",
    "\n",
    "dff = pd.DataFrame(onehot_encoded, columns= onehot_encoder.categories)\n",
    "\n",
    "dff.head()\n",
    "\n",
    "\n"
   ]
  },
  {
   "cell_type": "markdown",
   "metadata": {},
   "source": [
    "RFM analysis: RFM stands for Frequency (The frequency of purchases of a customer), Recency (How long has been since the last purchace of a customer), Monetary (How much a customer has spent). We will firstly calculate the frequency and generate a new dataset containg 2 columns (CustomerName and Frequency)."
   ]
  },
  {
   "cell_type": "code",
   "execution_count": 9,
   "metadata": {},
   "outputs": [
    {
     "data": {
      "text/html": [
       "<div>\n",
       "<style scoped>\n",
       "    .dataframe tbody tr th:only-of-type {\n",
       "        vertical-align: middle;\n",
       "    }\n",
       "\n",
       "    .dataframe tbody tr th {\n",
       "        vertical-align: top;\n",
       "    }\n",
       "\n",
       "    .dataframe thead th {\n",
       "        text-align: right;\n",
       "    }\n",
       "</style>\n",
       "<table border=\"1\" class=\"dataframe\">\n",
       "  <thead>\n",
       "    <tr style=\"text-align: right;\">\n",
       "      <th></th>\n",
       "      <th>CustomerName</th>\n",
       "      <th>Frequency</th>\n",
       "    </tr>\n",
       "  </thead>\n",
       "  <tbody>\n",
       "    <tr>\n",
       "      <th>0</th>\n",
       "      <td>001051abfcfdbed9f87b4266213a5df1</td>\n",
       "      <td>3</td>\n",
       "    </tr>\n",
       "    <tr>\n",
       "      <th>1</th>\n",
       "      <td>0013cd8e350a7cc76873441e431dd5ee</td>\n",
       "      <td>1</td>\n",
       "    </tr>\n",
       "    <tr>\n",
       "      <th>2</th>\n",
       "      <td>0015bc9fd2d5395446143e8b215d7c75</td>\n",
       "      <td>1</td>\n",
       "    </tr>\n",
       "    <tr>\n",
       "      <th>3</th>\n",
       "      <td>0018c09f333634ca9c80d9ff46e43e9c</td>\n",
       "      <td>1</td>\n",
       "    </tr>\n",
       "    <tr>\n",
       "      <th>4</th>\n",
       "      <td>001df1ee5c36767aa607001ab1a13a06</td>\n",
       "      <td>1</td>\n",
       "    </tr>\n",
       "  </tbody>\n",
       "</table>\n",
       "</div>"
      ],
      "text/plain": [
       "                       CustomerName  Frequency\n",
       "0  001051abfcfdbed9f87b4266213a5df1          3\n",
       "1  0013cd8e350a7cc76873441e431dd5ee          1\n",
       "2  0015bc9fd2d5395446143e8b215d7c75          1\n",
       "3  0018c09f333634ca9c80d9ff46e43e9c          1\n",
       "4  001df1ee5c36767aa607001ab1a13a06          1"
      ]
     },
     "execution_count": 9,
     "metadata": {},
     "output_type": "execute_result"
    }
   ],
   "source": [
    "frequency_df = df.groupby(\n",
    "    by=['customer_id'], as_index=False)['order_purchase_timestamp'].count()\n",
    "frequency_df.columns = ['CustomerName', 'Frequency']\n",
    "frequency_df.head()"
   ]
  },
  {
   "cell_type": "markdown",
   "metadata": {},
   "source": [
    "Creating the monetary dataset:"
   ]
  },
  {
   "cell_type": "code",
   "execution_count": null,
   "metadata": {},
   "outputs": [],
   "source": [
    "#code here"
   ]
  },
  {
   "cell_type": "markdown",
   "metadata": {},
   "source": [
    "The dataframe does not present missing data, so no data imputation is needed. Even if the describe method has already provided this info, we nevertheless check for some null entries and some duplicates; another important thing is to see whether some customers have made multiple orders and if so, look for the customers' orders distribution by drawing a simple(but effective) histogram."
   ]
  },
  {
   "cell_type": "code",
   "execution_count": 9,
   "metadata": {},
   "outputs": [
    {
     "ename": "ValueError",
     "evalue": "x and y must have same first dimension, but have shapes (13801,) and (11247,)",
     "output_type": "error",
     "traceback": [
      "\u001b[1;31m---------------------------------------------------------------------------\u001b[0m",
      "\u001b[1;31mValueError\u001b[0m                                Traceback (most recent call last)",
      "Cell \u001b[1;32mIn [9], line 5\u001b[0m\n\u001b[0;32m      3\u001b[0m x \u001b[39m=\u001b[39m [i \u001b[39mfor\u001b[39;00m i \u001b[39min\u001b[39;00m \u001b[39mrange\u001b[39m(\u001b[39mlen\u001b[39m(df\u001b[39m.\u001b[39mindex))]\n\u001b[0;32m      4\u001b[0m y \u001b[39m=\u001b[39m orderdistr[\u001b[39m'\u001b[39m\u001b[39mN.orders\u001b[39m\u001b[39m'\u001b[39m]\n\u001b[1;32m----> 5\u001b[0m plt\u001b[39m.\u001b[39;49mplot(x, y)\n",
      "File \u001b[1;32m~\\AppData\\Local\\Packages\\PythonSoftwareFoundation.Python.3.9_qbz5n2kfra8p0\\LocalCache\\local-packages\\Python39\\site-packages\\matplotlib\\pyplot.py:2757\u001b[0m, in \u001b[0;36mplot\u001b[1;34m(scalex, scaley, data, *args, **kwargs)\u001b[0m\n\u001b[0;32m   2755\u001b[0m \u001b[39m@_copy_docstring_and_deprecators\u001b[39m(Axes\u001b[39m.\u001b[39mplot)\n\u001b[0;32m   2756\u001b[0m \u001b[39mdef\u001b[39;00m \u001b[39mplot\u001b[39m(\u001b[39m*\u001b[39margs, scalex\u001b[39m=\u001b[39m\u001b[39mTrue\u001b[39;00m, scaley\u001b[39m=\u001b[39m\u001b[39mTrue\u001b[39;00m, data\u001b[39m=\u001b[39m\u001b[39mNone\u001b[39;00m, \u001b[39m*\u001b[39m\u001b[39m*\u001b[39mkwargs):\n\u001b[1;32m-> 2757\u001b[0m     \u001b[39mreturn\u001b[39;00m gca()\u001b[39m.\u001b[39mplot(\n\u001b[0;32m   2758\u001b[0m         \u001b[39m*\u001b[39margs, scalex\u001b[39m=\u001b[39mscalex, scaley\u001b[39m=\u001b[39mscaley,\n\u001b[0;32m   2759\u001b[0m         \u001b[39m*\u001b[39m\u001b[39m*\u001b[39m({\u001b[39m\"\u001b[39m\u001b[39mdata\u001b[39m\u001b[39m\"\u001b[39m: data} \u001b[39mif\u001b[39;00m data \u001b[39mis\u001b[39;00m \u001b[39mnot\u001b[39;00m \u001b[39mNone\u001b[39;00m \u001b[39melse\u001b[39;00m {}), \u001b[39m*\u001b[39m\u001b[39m*\u001b[39mkwargs)\n",
      "File \u001b[1;32m~\\AppData\\Local\\Packages\\PythonSoftwareFoundation.Python.3.9_qbz5n2kfra8p0\\LocalCache\\local-packages\\Python39\\site-packages\\matplotlib\\axes\\_axes.py:1632\u001b[0m, in \u001b[0;36mAxes.plot\u001b[1;34m(self, scalex, scaley, data, *args, **kwargs)\u001b[0m\n\u001b[0;32m   1390\u001b[0m \u001b[39m\"\"\"\u001b[39;00m\n\u001b[0;32m   1391\u001b[0m \u001b[39mPlot y versus x as lines and/or markers.\u001b[39;00m\n\u001b[0;32m   1392\u001b[0m \n\u001b[1;32m   (...)\u001b[0m\n\u001b[0;32m   1629\u001b[0m \u001b[39m(``'green'``) or hex strings (``'#008000'``).\u001b[39;00m\n\u001b[0;32m   1630\u001b[0m \u001b[39m\"\"\"\u001b[39;00m\n\u001b[0;32m   1631\u001b[0m kwargs \u001b[39m=\u001b[39m cbook\u001b[39m.\u001b[39mnormalize_kwargs(kwargs, mlines\u001b[39m.\u001b[39mLine2D)\n\u001b[1;32m-> 1632\u001b[0m lines \u001b[39m=\u001b[39m [\u001b[39m*\u001b[39m\u001b[39mself\u001b[39m\u001b[39m.\u001b[39m_get_lines(\u001b[39m*\u001b[39margs, data\u001b[39m=\u001b[39mdata, \u001b[39m*\u001b[39m\u001b[39m*\u001b[39mkwargs)]\n\u001b[0;32m   1633\u001b[0m \u001b[39mfor\u001b[39;00m line \u001b[39min\u001b[39;00m lines:\n\u001b[0;32m   1634\u001b[0m     \u001b[39mself\u001b[39m\u001b[39m.\u001b[39madd_line(line)\n",
      "File \u001b[1;32m~\\AppData\\Local\\Packages\\PythonSoftwareFoundation.Python.3.9_qbz5n2kfra8p0\\LocalCache\\local-packages\\Python39\\site-packages\\matplotlib\\axes\\_base.py:312\u001b[0m, in \u001b[0;36m_process_plot_var_args.__call__\u001b[1;34m(self, data, *args, **kwargs)\u001b[0m\n\u001b[0;32m    310\u001b[0m     this \u001b[39m+\u001b[39m\u001b[39m=\u001b[39m args[\u001b[39m0\u001b[39m],\n\u001b[0;32m    311\u001b[0m     args \u001b[39m=\u001b[39m args[\u001b[39m1\u001b[39m:]\n\u001b[1;32m--> 312\u001b[0m \u001b[39myield from\u001b[39;00m \u001b[39mself\u001b[39;49m\u001b[39m.\u001b[39;49m_plot_args(this, kwargs)\n",
      "File \u001b[1;32m~\\AppData\\Local\\Packages\\PythonSoftwareFoundation.Python.3.9_qbz5n2kfra8p0\\LocalCache\\local-packages\\Python39\\site-packages\\matplotlib\\axes\\_base.py:498\u001b[0m, in \u001b[0;36m_process_plot_var_args._plot_args\u001b[1;34m(self, tup, kwargs, return_kwargs)\u001b[0m\n\u001b[0;32m    495\u001b[0m     \u001b[39mself\u001b[39m\u001b[39m.\u001b[39maxes\u001b[39m.\u001b[39myaxis\u001b[39m.\u001b[39mupdate_units(y)\n\u001b[0;32m    497\u001b[0m \u001b[39mif\u001b[39;00m x\u001b[39m.\u001b[39mshape[\u001b[39m0\u001b[39m] \u001b[39m!=\u001b[39m y\u001b[39m.\u001b[39mshape[\u001b[39m0\u001b[39m]:\n\u001b[1;32m--> 498\u001b[0m     \u001b[39mraise\u001b[39;00m \u001b[39mValueError\u001b[39;00m(\u001b[39mf\u001b[39m\u001b[39m\"\u001b[39m\u001b[39mx and y must have same first dimension, but \u001b[39m\u001b[39m\"\u001b[39m\n\u001b[0;32m    499\u001b[0m                      \u001b[39mf\u001b[39m\u001b[39m\"\u001b[39m\u001b[39mhave shapes \u001b[39m\u001b[39m{\u001b[39;00mx\u001b[39m.\u001b[39mshape\u001b[39m}\u001b[39;00m\u001b[39m and \u001b[39m\u001b[39m{\u001b[39;00my\u001b[39m.\u001b[39mshape\u001b[39m}\u001b[39;00m\u001b[39m\"\u001b[39m)\n\u001b[0;32m    500\u001b[0m \u001b[39mif\u001b[39;00m x\u001b[39m.\u001b[39mndim \u001b[39m>\u001b[39m \u001b[39m2\u001b[39m \u001b[39mor\u001b[39;00m y\u001b[39m.\u001b[39mndim \u001b[39m>\u001b[39m \u001b[39m2\u001b[39m:\n\u001b[0;32m    501\u001b[0m     \u001b[39mraise\u001b[39;00m \u001b[39mValueError\u001b[39;00m(\u001b[39mf\u001b[39m\u001b[39m\"\u001b[39m\u001b[39mx and y can be no greater than 2D, but have \u001b[39m\u001b[39m\"\u001b[39m\n\u001b[0;32m    502\u001b[0m                      \u001b[39mf\u001b[39m\u001b[39m\"\u001b[39m\u001b[39mshapes \u001b[39m\u001b[39m{\u001b[39;00mx\u001b[39m.\u001b[39mshape\u001b[39m}\u001b[39;00m\u001b[39m and \u001b[39m\u001b[39m{\u001b[39;00my\u001b[39m.\u001b[39mshape\u001b[39m}\u001b[39;00m\u001b[39m\"\u001b[39m)\n",
      "\u001b[1;31mValueError\u001b[0m: x and y must have same first dimension, but have shapes (13801,) and (11247,)"
     ]
    },
    {
     "data": {
      "image/png": "[encoded data removed]",
      "text/plain": [
       "<Figure size 640x480 with 1 Axes>"
      ]
     },
     "metadata": {},
     "output_type": "display_data"
    }
   ],
   "source": [
    "df.isnull()\n",
    "orderdistr = df.groupby(['customer_unique_id'])['customer_unique_id'].count().reset_index(name='N.orders').sort_values(['N.orders'], ascending = False)\n",
    "x = [i for i in range(len(df.index))]\n",
    "y = orderdistr['N.orders']\n",
    "plt.plot(x, y)"
   ]
  },
  {
   "cell_type": "markdown",
   "metadata": {},
   "source": [
    "As we can clearly see by looking at the head of the dataframe as well as at the columns, there are multiple attributes in which we are not interested at all: it is them important to identify those which can distinguish consumer behaviour: let us try with "
   ]
  },
  {
   "cell_type": "code",
   "execution_count": 10,
   "metadata": {},
   "outputs": [
    {
     "name": "stderr",
     "output_type": "stream",
     "text": [
      "C:\\Users\\Tommy\\AppData\\Local\\Temp\\ipykernel_6296\\1602337437.py:2: SettingWithCopyWarning: \n",
      "A value is trying to be set on a copy of a slice from a DataFrame\n",
      "\n",
      "See the caveats in the documentation: https://pandas.pydata.org/pandas-docs/stable/user_guide/indexing.html#returning-a-view-versus-a-copy\n",
      "  df2.drop_duplicates(inplace = True)\n"
     ]
    },
    {
     "data": {
      "text/plain": [
       "(13702, 7)"
      ]
     },
     "execution_count": 10,
     "metadata": {},
     "output_type": "execute_result"
    }
   ],
   "source": [
    "df2 = df.iloc[:,[11,12,10,9,18,22,14]]\n",
    "df2.drop_duplicates(inplace = True)\n",
    "df2.shape\n"
   ]
  },
  {
   "cell_type": "markdown",
   "metadata": {},
   "source": [
    "What we can do now is to understand the distribution of the customers and how often they purchased. The group by function is grouping by the number of purchases and shows it in a different column!"
   ]
  },
  {
   "cell_type": "code",
   "execution_count": 12,
   "metadata": {},
   "outputs": [],
   "source": [
    "n_orders = df2.groupby(['customer_unique_id'])['customer_unique_id'].count().reset_index(name='N.orders').sort_values(['N.orders'], ascending = False)"
   ]
  },
  {
   "cell_type": "markdown",
   "metadata": {},
   "source": [
    "Below we perform some data visualization to understand the distribution of the order and customers' ID, as we are eager to see if some customers have made constant orders."
   ]
  },
  {
   "cell_type": "code",
   "execution_count": 22,
   "metadata": {},
   "outputs": [
    {
     "name": "stdout",
     "output_type": "stream",
     "text": [
      "(13702, 7) vs 11247\n"
     ]
    },
    {
     "data": {
      "text/html": [
       "<div>\n",
       "<style scoped>\n",
       "    .dataframe tbody tr th:only-of-type {\n",
       "        vertical-align: middle;\n",
       "    }\n",
       "\n",
       "    .dataframe tbody tr th {\n",
       "        vertical-align: top;\n",
       "    }\n",
       "\n",
       "    .dataframe thead th {\n",
       "        text-align: right;\n",
       "    }\n",
       "</style>\n",
       "<table border=\"1\" class=\"dataframe\">\n",
       "  <thead>\n",
       "    <tr style=\"text-align: right;\">\n",
       "      <th></th>\n",
       "      <th>Id</th>\n",
       "      <th>customer_city</th>\n",
       "      <th>totpayorder</th>\n",
       "      <th>installments</th>\n",
       "      <th>price</th>\n",
       "      <th>product_category_name</th>\n",
       "      <th>nitems</th>\n",
       "    </tr>\n",
       "  </thead>\n",
       "  <tbody>\n",
       "    <tr>\n",
       "      <th>0</th>\n",
       "      <td>af07308b275d755c9edb36a90c618231</td>\n",
       "      <td>barreiras</td>\n",
       "      <td>141.46</td>\n",
       "      <td>1</td>\n",
       "      <td>118.7</td>\n",
       "      <td>perfumaria</td>\n",
       "      <td>1</td>\n",
       "    </tr>\n",
       "    <tr>\n",
       "      <th>1</th>\n",
       "      <td>8b8028d453a01986b48c4271cc341475</td>\n",
       "      <td>ituverava</td>\n",
       "      <td>135.82</td>\n",
       "      <td>5</td>\n",
       "      <td>116.9</td>\n",
       "      <td>perfumaria</td>\n",
       "      <td>1</td>\n",
       "    </tr>\n",
       "    <tr>\n",
       "      <th>2</th>\n",
       "      <td>3edcab192482e9871c17b34cf98c3996</td>\n",
       "      <td>ribeirao das neves</td>\n",
       "      <td>128.04</td>\n",
       "      <td>1</td>\n",
       "      <td>118.7</td>\n",
       "      <td>perfumaria</td>\n",
       "      <td>1</td>\n",
       "    </tr>\n",
       "    <tr>\n",
       "      <th>3</th>\n",
       "      <td>958ac7760e5484df1496ba5833ab6117</td>\n",
       "      <td>gaspar</td>\n",
       "      <td>279.30</td>\n",
       "      <td>2</td>\n",
       "      <td>116.9</td>\n",
       "      <td>perfumaria</td>\n",
       "      <td>1</td>\n",
       "    </tr>\n",
       "    <tr>\n",
       "      <th>4</th>\n",
       "      <td>958ac7760e5484df1496ba5833ab6117</td>\n",
       "      <td>gaspar</td>\n",
       "      <td>279.30</td>\n",
       "      <td>2</td>\n",
       "      <td>116.9</td>\n",
       "      <td>perfumaria</td>\n",
       "      <td>2</td>\n",
       "    </tr>\n",
       "  </tbody>\n",
       "</table>\n",
       "</div>"
      ],
      "text/plain": [
       "                                 Id       customer_city  totpayorder  \\\n",
       "0  af07308b275d755c9edb36a90c618231           barreiras       141.46   \n",
       "1  8b8028d453a01986b48c4271cc341475           ituverava       135.82   \n",
       "2  3edcab192482e9871c17b34cf98c3996  ribeirao das neves       128.04   \n",
       "3  958ac7760e5484df1496ba5833ab6117              gaspar       279.30   \n",
       "4  958ac7760e5484df1496ba5833ab6117              gaspar       279.30   \n",
       "\n",
       "   installments  price product_category_name  nitems  \n",
       "0             1  118.7            perfumaria       1  \n",
       "1             5  116.9            perfumaria       1  \n",
       "2             1  118.7            perfumaria       1  \n",
       "3             2  116.9            perfumaria       1  \n",
       "4             2  116.9            perfumaria       2  "
      ]
     },
     "execution_count": 22,
     "metadata": {},
     "output_type": "execute_result"
    }
   ],
   "source": [
    "df2.rename(columns= {\n",
    "    'customer_unique_id': 'Id',\n",
    "    'payment_value' : 'totpayorder',\n",
    "    'payment_installments' : 'installments',\n",
    "    'order_item_id': 'nitems',\n",
    "    }, inplace = True)\n",
    "\n",
    "#check for unique id\n",
    "print(df2.shape,'vs', df2['Id'].nunique())\n",
    "df2.head()"
   ]
  },
  {
   "cell_type": "code",
   "execution_count": null,
   "metadata": {},
   "outputs": [],
   "source": []
  }
 ],
 "metadata": {
  "kernelspec": {
   "display_name": "Python 3.9.13 64-bit (microsoft store)",
   "language": "python",
   "name": "python3"
  },
  "language_info": {
   "codemirror_mode": {
    "name": "ipython",
    "version": 3
   },
   "file_extension": ".py",
   "mimetype": "text/x-python",
   "name": "python",
   "nbconvert_exporter": "python",
   "pygments_lexer": "ipython3",
   "version": "3.9.13"
  },
  "orig_nbformat": 4,
  "vscode": {
   "interpreter": {
    "hash": "277e8c605ba495724f8f0afcaa6a7c8dca4b97103928ac49109b338304414d2a"
   }
  }
 },
 "nbformat": 4,
 "nbformat_minor": 2
}
